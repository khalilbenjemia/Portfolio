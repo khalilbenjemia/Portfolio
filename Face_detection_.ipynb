{
  "nbformat": 4,
  "nbformat_minor": 0,
  "metadata": {
    "colab": {
      "name": "Face detection .ipynb",
      "provenance": []
    },
    "kernelspec": {
      "name": "python3",
      "display_name": "Python 3"
    },
    "accelerator": "GPU"
  },
  "cells": [
    {
      "cell_type": "code",
      "metadata": {
        "id": "4lxFho_q_WWL",
        "colab_type": "code",
        "colab": {}
      },
      "source": [
        "from tensorflow.keras.preprocessing.image import ImageDataGenerator\n",
        "from tensorflow.keras.applications import MobileNetV2\n",
        "from tensorflow.keras.layers import AveragePooling2D\n",
        "from tensorflow.keras.layers import Dropout\n",
        "from tensorflow.keras.layers import Flatten\n",
        "from tensorflow.keras.layers import Dense\n",
        "from tensorflow.keras.layers import Input\n",
        "from tensorflow.keras.models import Model\n",
        "from tensorflow.keras.optimizers import Adam\n",
        "from tensorflow.keras.applications.mobilenet_v2 import preprocess_input\n",
        "\n",
        "\n",
        "import matplotlib.pyplot as plt\n",
        "import numpy as np\n",
        "\n",
        "import os\n",
        "import pandas as pd\n",
        "import tensorflow as tf\n",
        "from keras.optimizers import RMSprop,Adam\n",
        "from keras.callbacks import ModelCheckpoint, Callback, EarlyStopping"
      ],
      "execution_count": 19,
      "outputs": []
    },
    {
      "cell_type": "code",
      "metadata": {
        "id": "DVzFd7gF_YuT",
        "colab_type": "code",
        "colab": {
          "base_uri": "https://localhost:8080/",
          "height": 34
        },
        "outputId": "670aafec-e757-4d49-b61a-0115df48dd4d"
      },
      "source": [
        "from google.colab import drive\n",
        "drive.mount('/content/gdrive')\n"
      ],
      "execution_count": 2,
      "outputs": [
        {
          "output_type": "stream",
          "text": [
            "Mounted at /content/gdrive\n"
          ],
          "name": "stdout"
        }
      ]
    },
    {
      "cell_type": "code",
      "metadata": {
        "id": "4aXGhIDaBZ1c",
        "colab_type": "code",
        "colab": {}
      },
      "source": [
        "!unzip -q \"/content/gdrive/My Drive/face_mask_detection (1).zip\" -d \"/content/gdrive/My Drive/mask_detection\""
      ],
      "execution_count": 3,
      "outputs": []
    },
    {
      "cell_type": "code",
      "metadata": {
        "id": "HbGSNfT5BztY",
        "colab_type": "code",
        "colab": {
          "base_uri": "https://localhost:8080/",
          "height": 51
        },
        "outputId": "5e12874e-bf6e-4229-85e1-704ce855f6ac"
      },
      "source": [
        "train_df=pd.read_csv('/content/gdrive/My Drive/mask_detection/face_mask_detection/Training_set_face_mask.csv')\n",
        "train_datagen = tf.keras.preprocessing.image.ImageDataGenerator(rescale = 1./255., # rescaling\n",
        "                                   rotation_range = 40,  # for augmentation\n",
        "                                   width_shift_range = 0.2,\n",
        "                                   validation_split = 0.2,\n",
        "                                   height_shift_range = 0.2,\n",
        "                                   shear_range = 0.2,\n",
        "                                   zoom_range = 0.2,\n",
        "                                   horizontal_flip = True)\n",
        "\n",
        "val_datagen = tf.keras.preprocessing.image.ImageDataGenerator(rescale = 1.0/255.,validation_split = 0.2)\n",
        "\n",
        "train_generator = train_datagen.flow_from_dataframe(\n",
        "    train_df, \n",
        "    directory='/content/gdrive/My Drive/mask_detection/face_mask_detection/train', \n",
        "    x_col='filename',\n",
        "    y_col='label',\n",
        "    subset='training',\n",
        "    target_size=(224, 224),\n",
        "    batch_size=20,\n",
        "    shuffle=True\n",
        ")\n",
        "val_generator = val_datagen.flow_from_dataframe(\n",
        "    train_df, \n",
        "    directory='/content/gdrive/My Drive/mask_detection/face_mask_detection/train', \n",
        "    x_col='filename',\n",
        "    y_col='label',\n",
        "    subset='validation',\n",
        "    target_size=(224, 224),\n",
        "    batch_size=20,\n",
        "    shuffle=True\n",
        ")\n",
        "\n"
      ],
      "execution_count": 24,
      "outputs": [
        {
          "output_type": "stream",
          "text": [
            "Found 9012 validated image filenames belonging to 2 classes.\n",
            "Found 2252 validated image filenames belonging to 2 classes.\n"
          ],
          "name": "stdout"
        }
      ]
    },
    {
      "cell_type": "code",
      "metadata": {
        "id": "KeVt7YtnJC3O",
        "colab_type": "code",
        "colab": {
          "base_uri": "https://localhost:8080/",
          "height": 34
        },
        "outputId": "779f7c43-a9f3-4e6f-df91-c298b1720e89"
      },
      "source": [
        "test_df=pd.read_csv('/content/gdrive/My Drive/mask_detection/face_mask_detection/Testing_set_face_mask.csv')\n",
        "test_gen = ImageDataGenerator(rescale=1./255)\n",
        "test_generator = test_gen.flow_from_dataframe(\n",
        "    test_df, \n",
        "    directory='/content/gdrive/My Drive/mask_detection/face_mask_detection/test', \n",
        "    x_col='filename',\n",
        "    y_col=None,\n",
        "    class_mode=None,\n",
        "    target_size=(224, 224),\n",
        "    batch_size=20,\n",
        "    shuffle=False\n",
        ")"
      ],
      "execution_count": 25,
      "outputs": [
        {
          "output_type": "stream",
          "text": [
            "Found 1536 validated image filenames.\n"
          ],
          "name": "stdout"
        }
      ]
    },
    {
      "cell_type": "code",
      "metadata": {
        "id": "7XQT0hdxLvyu",
        "colab_type": "code",
        "colab": {
          "base_uri": "https://localhost:8080/",
          "height": 54
        },
        "outputId": "5d9166df-cbf4-404d-b8aa-a6b94dcbf200"
      },
      "source": [
        "baseModel = MobileNetV2(weights=\"imagenet\", include_top=False,\n",
        "\tinput_tensor=Input(shape=(224, 224, 3)))\n",
        "# construct the head of the model that will be placed on top of the\n",
        "# the base model\n",
        "headModel = baseModel.output\n",
        "headModel = AveragePooling2D(pool_size=(7, 7))(headModel)\n",
        "headModel = Flatten(name=\"flatten\")(headModel)\n",
        "headModel = Dense(128, activation=\"relu\")(headModel)\n",
        "headModel = Dropout(0.5)(headModel)\n",
        "headModel = Dense(2, activation=\"softmax\")(headModel)\n",
        "# place the head FC model on top of the base model (this will become\n",
        "# the actual model we will train)\n",
        "model = Model(inputs=baseModel.input, outputs=headModel)\n",
        "for layer in baseModel.layers:\n",
        "\tlayer.trainable = False"
      ],
      "execution_count": 18,
      "outputs": [
        {
          "output_type": "stream",
          "text": [
            "WARNING:tensorflow:`input_shape` is undefined or non-square, or `rows` is not in [96, 128, 160, 192, 224]. Weights for input shape (224, 224) will be loaded as the default.\n"
          ],
          "name": "stdout"
        }
      ]
    },
    {
      "cell_type": "code",
      "metadata": {
        "id": "u9wraxk4Mxds",
        "colab_type": "code",
        "colab": {}
      },
      "source": [
        "from keras.callbacks import EarlyStopping, ReduceLROnPlateau\n",
        "earlystop = EarlyStopping(patience=10)\n",
        "learning_rate_reduction = ReduceLROnPlateau(monitor='val_accuracy', \n",
        "                                            patience=2, \n",
        "                                            verbose=1, \n",
        "                                            factor=0.5, \n",
        "                                            min_lr=0.00001)\n",
        "callbacks = [earlystop, learning_rate_reduction]\n",
        "\n",
        "model.compile(loss=\"binary_crossentropy\", optimizer=Adam(1e-4),\n",
        "\tmetrics=[\"accuracy\"])"
      ],
      "execution_count": 21,
      "outputs": []
    },
    {
      "cell_type": "code",
      "metadata": {
        "id": "2rLAWbl2NfpM",
        "colab_type": "code",
        "colab": {
          "base_uri": "https://localhost:8080/",
          "height": 697
        },
        "outputId": "b4c07653-0482-47b0-ba68-759fb3ec6288"
      },
      "source": [
        "history = model.fit(\n",
        "            train_generator,\n",
        "            validation_data = val_generator,\n",
        "            epochs = 50,\n",
        "            verbose = 1,\n",
        "            callbacks=callbacks\n",
        "            )"
      ],
      "execution_count": 26,
      "outputs": [
        {
          "output_type": "stream",
          "text": [
            "Epoch 1/50\n",
            "451/451 [==============================] - 116s 258ms/step - loss: 0.2297 - accuracy: 0.9078 - val_loss: 0.0880 - val_accuracy: 0.9707\n",
            "Epoch 2/50\n",
            "451/451 [==============================] - 116s 256ms/step - loss: 0.0997 - accuracy: 0.9644 - val_loss: 0.0737 - val_accuracy: 0.9711\n",
            "Epoch 3/50\n",
            "451/451 [==============================] - 116s 257ms/step - loss: 0.0822 - accuracy: 0.9730 - val_loss: 0.0446 - val_accuracy: 0.9836\n",
            "Epoch 4/50\n",
            "451/451 [==============================] - 116s 257ms/step - loss: 0.0696 - accuracy: 0.9737 - val_loss: 0.0347 - val_accuracy: 0.9871\n",
            "Epoch 5/50\n",
            "451/451 [==============================] - 115s 255ms/step - loss: 0.0606 - accuracy: 0.9791 - val_loss: 0.0310 - val_accuracy: 0.9898\n",
            "Epoch 6/50\n",
            "451/451 [==============================] - 116s 256ms/step - loss: 0.0606 - accuracy: 0.9794 - val_loss: 0.0278 - val_accuracy: 0.9893\n",
            "Epoch 7/50\n",
            "451/451 [==============================] - ETA: 0s - loss: 0.0536 - accuracy: 0.9808\n",
            "Epoch 00007: ReduceLROnPlateau reducing learning rate to 4.999999873689376e-05.\n",
            "451/451 [==============================] - 115s 256ms/step - loss: 0.0536 - accuracy: 0.9808 - val_loss: 0.0579 - val_accuracy: 0.9742\n",
            "Epoch 8/50\n",
            "451/451 [==============================] - 116s 258ms/step - loss: 0.0498 - accuracy: 0.9837 - val_loss: 0.0363 - val_accuracy: 0.9845\n",
            "Epoch 9/50\n",
            "451/451 [==============================] - ETA: 0s - loss: 0.0519 - accuracy: 0.9805\n",
            "Epoch 00009: ReduceLROnPlateau reducing learning rate to 2.499999936844688e-05.\n",
            "451/451 [==============================] - 116s 257ms/step - loss: 0.0519 - accuracy: 0.9805 - val_loss: 0.0468 - val_accuracy: 0.9805\n",
            "Epoch 10/50\n",
            "451/451 [==============================] - 115s 256ms/step - loss: 0.0440 - accuracy: 0.9855 - val_loss: 0.0476 - val_accuracy: 0.9805\n",
            "Epoch 11/50\n",
            "451/451 [==============================] - ETA: 0s - loss: 0.0480 - accuracy: 0.9846\n",
            "Epoch 00011: ReduceLROnPlateau reducing learning rate to 1.249999968422344e-05.\n",
            "451/451 [==============================] - 115s 254ms/step - loss: 0.0480 - accuracy: 0.9846 - val_loss: 0.0343 - val_accuracy: 0.9849\n",
            "Epoch 12/50\n",
            "451/451 [==============================] - 116s 256ms/step - loss: 0.0438 - accuracy: 0.9839 - val_loss: 0.0391 - val_accuracy: 0.9840\n",
            "Epoch 13/50\n",
            "451/451 [==============================] - ETA: 0s - loss: 0.0438 - accuracy: 0.9842\n",
            "Epoch 00013: ReduceLROnPlateau reducing learning rate to 1e-05.\n",
            "451/451 [==============================] - 115s 254ms/step - loss: 0.0438 - accuracy: 0.9842 - val_loss: 0.0362 - val_accuracy: 0.9845\n",
            "Epoch 14/50\n",
            "451/451 [==============================] - 115s 256ms/step - loss: 0.0410 - accuracy: 0.9859 - val_loss: 0.0349 - val_accuracy: 0.9853\n",
            "Epoch 15/50\n",
            "451/451 [==============================] - 115s 254ms/step - loss: 0.0436 - accuracy: 0.9845 - val_loss: 0.0342 - val_accuracy: 0.9853\n",
            "Epoch 16/50\n",
            "451/451 [==============================] - 115s 255ms/step - loss: 0.0416 - accuracy: 0.9862 - val_loss: 0.0361 - val_accuracy: 0.9849\n"
          ],
          "name": "stdout"
        }
      ]
    },
    {
      "cell_type": "code",
      "metadata": {
        "id": "6m_afmO1NrUj",
        "colab_type": "code",
        "colab": {
          "base_uri": "https://localhost:8080/",
          "height": 225
        },
        "outputId": "2a3483a6-39dd-4535-8244-4a3cc8df1231"
      },
      "source": [
        "f, ax = plt.subplots(1,2, figsize=(12,3))\n",
        "ax[0].plot(history.history['loss'], label=\"Loss\")\n",
        "ax[0].plot(history.history['val_loss'], label=\"Validation loss\")\n",
        "ax[0].set_title('Loss')\n",
        "ax[0].set_xlabel('Epoch')\n",
        "ax[0].set_ylabel('Loss')\n",
        "ax[0].legend()\n",
        "\n",
        "        # Accuracy\n",
        "ax[1].plot(history.history['accuracy'], label=\"Accuracy\")\n",
        "ax[1].plot(history.history['val_accuracy'], label=\"Validation accuracy\")\n",
        "ax[1].set_title('Accuracy')\n",
        "ax[1].set_xlabel('Epoch')\n",
        "ax[1].set_ylabel('Accuracy')\n",
        "ax[1].legend()\n",
        "plt.tight_layout()\n",
        "plt.show()"
      ],
      "execution_count": 30,
      "outputs": [
        {
          "output_type": "display_data",
          "data": {
            "image/png": "[encoded data removed]",
            "text/plain": [
              "<Figure size 864x216 with 2 Axes>"
            ]
          },
          "metadata": {
            "tags": [],
            "needs_background": "light"
          }
        }
      ]
    },
    {
      "cell_type": "code",
      "metadata": {
        "id": "gYYgOqPiVkJY",
        "colab_type": "code",
        "colab": {}
      },
      "source": [
        "predict = model.predict(test_generator)\n",
        "test_df['label'] = np.argmax(predict, axis=-1)\n",
        "label_map = dict((v,k) for k,v in train_generator.class_indices.items())\n",
        "test_df['label'] = test_df['label'].replace(label_map)\n",
        "test_df['label']=\"'\"+test_df['target']+\"'\""
      ],
      "execution_count": 32,
      "outputs": []
    },
    {
      "cell_type": "code",
      "metadata": {
        "id": "byjBCbcYWD--",
        "colab_type": "code",
        "colab": {
          "base_uri": "https://localhost:8080/",
          "height": 204
        },
        "outputId": "55a70791-6e2e-4d70-ad3b-4277105ed727"
      },
      "source": [
        "test_df['label']=\"'\"+test_df['label']+\"'\"\n",
        "test_df.tail()"
      ],
      "execution_count": 38,
      "outputs": [
        {
          "output_type": "execute_result",
          "data": {
            "text/html": [
              "<div>\n",
              "<style scoped>\n",
              "    .dataframe tbody tr th:only-of-type {\n",
              "        vertical-align: middle;\n",
              "    }\n",
              "\n",
              "    .dataframe tbody tr th {\n",
              "        vertical-align: top;\n",
              "    }\n",
              "\n",
              "    .dataframe thead th {\n",
              "        text-align: right;\n",
              "    }\n",
              "</style>\n",
              "<table border=\"1\" class=\"dataframe\">\n",
              "  <thead>\n",
              "    <tr style=\"text-align: right;\">\n",
              "      <th></th>\n",
              "      <th>filename</th>\n",
              "      <th>label</th>\n",
              "    </tr>\n",
              "  </thead>\n",
              "  <tbody>\n",
              "    <tr>\n",
              "      <th>1531</th>\n",
              "      <td>Image_1532.jpg</td>\n",
              "      <td>'with_mask'</td>\n",
              "    </tr>\n",
              "    <tr>\n",
              "      <th>1532</th>\n",
              "      <td>Image_1533.jpg</td>\n",
              "      <td>'with_mask'</td>\n",
              "    </tr>\n",
              "    <tr>\n",
              "      <th>1533</th>\n",
              "      <td>Image_1534.jpg</td>\n",
              "      <td>'with_mask'</td>\n",
              "    </tr>\n",
              "    <tr>\n",
              "      <th>1534</th>\n",
              "      <td>Image_1535.jpg</td>\n",
              "      <td>'with_mask'</td>\n",
              "    </tr>\n",
              "    <tr>\n",
              "      <th>1535</th>\n",
              "      <td>Image_1536.jpg</td>\n",
              "      <td>'without_mask'</td>\n",
              "    </tr>\n",
              "  </tbody>\n",
              "</table>\n",
              "</div>"
            ],
            "text/plain": [
              "            filename           label\n",
              "1531  Image_1532.jpg     'with_mask'\n",
              "1532  Image_1533.jpg     'with_mask'\n",
              "1533  Image_1534.jpg     'with_mask'\n",
              "1534  Image_1535.jpg     'with_mask'\n",
              "1535  Image_1536.jpg  'without_mask'"
            ]
          },
          "metadata": {
            "tags": []
          },
          "execution_count": 38
        }
      ]
    },
    {
      "cell_type": "code",
      "metadata": {
        "id": "FAvK28v4WKmx",
        "colab_type": "code",
        "colab": {
          "base_uri": "https://localhost:8080/",
          "height": 17
        },
        "outputId": "4af43eb1-73e6-4da1-8a79-3b7184e48ae7"
      },
      "source": [
        "test_df.to_csv('submission_face_mask.csv', index=False)\n",
        "from google.colab import files\n",
        "files.download('submission_face_mask.csv')"
      ],
      "execution_count": 39,
      "outputs": [
        {
          "output_type": "display_data",
          "data": {
            "application/javascript": [
              "\n",
              "    async function download(id, filename, size) {\n",
              "      if (!google.colab.kernel.accessAllowed) {\n",
              "        return;\n",
              "      }\n",
              "      const div = document.createElement('div');\n",
              "      const label = document.createElement('label');\n",
              "      label.textContent = `Downloading \"${filename}\": `;\n",
              "      div.appendChild(label);\n",
              "      const progress = document.createElement('progress');\n",
              "      progress.max = size;\n",
              "      div.appendChild(progress);\n",
              "      document.body.appendChild(div);\n",
              "\n",
              "      const buffers = [];\n",
              "      let downloaded = 0;\n",
              "\n",
              "      const channel = await google.colab.kernel.comms.open(id);\n",
              "      // Send a message to notify the kernel that we're ready.\n",
              "      channel.send({})\n",
              "\n",
              "      for await (const message of channel.messages) {\n",
              "        // Send a message to notify the kernel that we're ready.\n",
              "        channel.send({})\n",
              "        if (message.buffers) {\n",
              "          for (const buffer of message.buffers) {\n",
              "            buffers.push(buffer);\n",
              "            downloaded += buffer.byteLength;\n",
              "            progress.value = downloaded;\n",
              "          }\n",
              "        }\n",
              "      }\n",
              "      const blob = new Blob(buffers, {type: 'application/binary'});\n",
              "      const a = document.createElement('a');\n",
              "      a.href = window.URL.createObjectURL(blob);\n",
              "      a.download = filename;\n",
              "      div.appendChild(a);\n",
              "      a.click();\n",
              "      div.remove();\n",
              "    }\n",
              "  "
            ],
            "text/plain": [
              "<IPython.core.display.Javascript object>"
            ]
          },
          "metadata": {
            "tags": []
          }
        },
        {
          "output_type": "display_data",
          "data": {
            "application/javascript": [
              "download(\"download_4f39b9cf-38ff-4aec-a62b-8cf5e4bea5fb\", \"submission_face_mask.csv\", 42642)"
            ],
            "text/plain": [
              "<IPython.core.display.Javascript object>"
            ]
          },
          "metadata": {
            "tags": []
          }
        }
      ]
    },
    {
      "cell_type": "code",
      "metadata": {
        "id": "BtLB8U-oWVUU",
        "colab_type": "code",
        "colab": {}
      },
      "source": [
        ""
      ],
      "execution_count": null,
      "outputs": []
    }
  ]
}